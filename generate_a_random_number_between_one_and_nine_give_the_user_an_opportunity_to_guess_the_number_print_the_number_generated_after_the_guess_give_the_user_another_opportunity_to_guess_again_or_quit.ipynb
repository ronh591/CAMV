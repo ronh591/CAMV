{
  "cells": [
    {
      "cell_type": "markdown",
      "metadata": {
        "id": "view-in-github",
        "colab_type": "text"
      },
      "source": [
        "<a href=\"https://colab.research.google.com/github/ronh591/CAMV/blob/master/generate_a_random_number_between_one_and_nine_give_the_user_an_opportunity_to_guess_the_number_print_the_number_generated_after_the_guess_give_the_user_another_opportunity_to_guess_again_or_quit.ipynb\" target=\"_parent\"><img src=\"https://colab.research.google.com/assets/colab-badge.svg\" alt=\"Open In Colab\"/></a>"
      ]
    },
    {
      "cell_type": "markdown",
      "source": [
        "Sure, here's a Python program that generates a random number between one and nine, gives the user an opportunity to guess the number, prints the generated number after the guess, and gives the user another opportunity to guess again or quit:"
      ],
      "metadata": {
        "id": "Yej3Z2XyRqVN"
      }
    },
    {
      "cell_type": "code",
      "source": [
        "import random\n",
        "\n",
        "def generate_random_number():\n",
        "    # Generate a random number between 1 and 9 inclusive\n",
        "    random_number = random.randint(1, 9)\n",
        "    return random_number\n",
        "\n",
        "def get_user_guess():\n",
        "    # Get the user's guess\n",
        "    while True:\n",
        "        try:\n",
        "            guess = int(input(\"Guess a number between 1 and 9: \"))\n",
        "            if 1 <= guess <= 9:\n",
        "                return guess\n",
        "            else:\n",
        "                print(\"Please enter a number between 1 and 9.\")\n",
        "        except ValueError:\n",
        "            print(\"Please enter a valid number.\")\n",
        "\n",
        "def play_game():\n",
        "    # Generate the random number\n",
        "    random_number = generate_random_number()\n",
        "\n",
        "    # Get the user's guess\n",
        "    guess = get_user_guess()\n",
        "\n",
        "    # Check if the guess is correct\n",
        "    if guess == random_number:\n",
        "        print(\"You guessed correctly! The number was\", random_number)\n",
        "    else:\n",
        "        print(\"Sorry, your guess was wrong. The number was\", random_number)\n",
        "\n",
        "    # Play again?\n",
        "    while True:\n",
        "        play_again = input(\"Would you like to play again? (y/n): \")\n",
        "        if play_again.lower() == \"y\":\n",
        "            play_game()\n",
        "            break\n",
        "        elif play_again.lower() == \"n\":\n",
        "            print(\"Thanks for playing!\")\n",
        "            break\n",
        "        else:\n",
        "            print(\"Please enter y or n.\")\n",
        "\n",
        "if __name__ == \"__main__\":\n",
        "    play_game()"
      ],
      "outputs": [
        {
          "output_type": "stream",
          "name": "stdout",
          "text": [
            "Guess a number between 1 and 9: 8\n",
            "Sorry, your guess was wrong. The number was 5\n",
            "Would you like to play again? (y/n): y\n",
            "Guess a number between 1 and 9: 9\n",
            "Sorry, your guess was wrong. The number was 7\n",
            "Would you like to play again? (y/n): y\n",
            "Guess a number between 1 and 9: 7\n",
            "Sorry, your guess was wrong. The number was 2\n",
            "Would you like to play again? (y/n): y\n",
            "Guess a number between 1 and 9: 8\n",
            "Sorry, your guess was wrong. The number was 6\n",
            "Would you like to play again? (y/n): n\n",
            "Thanks for playing!\n"
          ]
        }
      ],
      "execution_count": 1,
      "metadata": {
        "colab": {
          "base_uri": "https://localhost:8080/"
        },
        "id": "zU1IeAEWRqVR",
        "outputId": "e7b370a7-3498-481c-b8dd-1214a46c555e"
      }
    },
    {
      "cell_type": "markdown",
      "source": [
        "This program will first generate a random number between 1 and 9. Then, it will prompt the user to guess the number. If the user guesses correctly, it will print a message congratulating them. Otherwise, it will print a message telling them the correct number. Finally, it will ask the user if they want to play again. If they say yes, it will start the game over. If they say no, it will exit the program."
      ],
      "metadata": {
        "id": "EiQNJbZtRqVS"
      }
    }
  ],
  "metadata": {
    "colab": {
      "provenance": [],
      "include_colab_link": true
    },
    "kernelspec": {
      "display_name": "Python 3",
      "name": "python3"
    }
  },
  "nbformat": 4,
  "nbformat_minor": 0
}