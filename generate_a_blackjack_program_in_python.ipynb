{
  "cells": [
    {
      "cell_type": "markdown",
      "metadata": {
        "id": "view-in-github",
        "colab_type": "text"
      },
      "source": [
        "<a href=\"https://colab.research.google.com/github/ronh591/CAMV/blob/master/generate_a_blackjack_program_in_python.ipynb\" target=\"_parent\"><img src=\"https://colab.research.google.com/assets/colab-badge.svg\" alt=\"Open In Colab\"/></a>"
      ]
    },
    {
      "cell_type": "markdown",
      "source": [
        "Certainly, here's a basic blackjack program in Python:"
      ],
      "metadata": {
        "id": "lXLmILQBCGEq"
      }
    },
    {
      "cell_type": "code",
      "source": [
        "import random\n",
        "\n",
        "suits = ('Hearts', 'Spades', 'Clubs', 'Diamonds')\n",
        "ranks = ('2', '3', '4', '5', '6', '7', '8', '9', '10', 'J', 'Q', 'K', 'A')\n",
        "values = {'2': 2, '3': 3, '4': 4, '5': 5, '6': 6, '7': 7, '8': 8, '9': 9, '10': 10, 'J': 10, 'Q': 10, 'K': 10, 'A': 11}\n",
        "\n",
        "class Card:\n",
        "    def __init__(self, suit, rank):\n",
        "        self.suit = suit\n",
        "        self.rank = rank\n",
        "        self.value = values[rank]\n",
        "\n",
        "    def __str__(self):\n",
        "        return self.rank + ' of ' + self.suit\n",
        "\n",
        "class Deck:\n",
        "    def __init__(self):\n",
        "        self.cards = []\n",
        "        for suit in suits:\n",
        "            for rank in ranks:\n",
        "                self.cards.append(Card(suit, rank))\n",
        "\n",
        "    def shuffle(self):\n",
        "        random.shuffle(self.cards)\n",
        "\n",
        "    def deal(self):\n",
        "        if self.cards:\n",
        "            return self.cards.pop()\n",
        "        else:\n",
        "            return None\n",
        "\n",
        "class Player:\n",
        "    def __init__(self, name):\n",
        "        self.name = name\n",
        "        self.cards = []\n",
        "        self.score = 0\n",
        "\n",
        "    def add_card(self, card):\n",
        "        self.cards.append(card)\n",
        "        self.score += card.value\n",
        "\n",
        "    def get_score(self):\n",
        "        return self.score\n",
        "\n",
        "    def show_cards(self):\n",
        "        for card in self.cards:\n",
        "            print(card)\n",
        "\n",
        "    def has_blackjack(self):\n",
        "        return self.score == 21\n",
        "\n",
        "    def has_bust(self):\n",
        "        return self.score > 21\n",
        "\n",
        "class Dealer:\n",
        "    def __init__(self):\n",
        "        self.cards = []\n",
        "        self.score = 0\n",
        "\n",
        "    def add_card(self, card):\n",
        "        self.cards.append(card)\n",
        "        self.score += card.value\n",
        "\n",
        "    def get_score(self):\n",
        "        return self.score\n",
        "\n",
        "    def show_cards(self):\n",
        "        print(\"Dealer's cards:\")\n",
        "        for card in self.cards:\n",
        "            print(card)\n",
        "\n",
        "    def has_blackjack(self):\n",
        "        return self.score == 21\n",
        "\n",
        "    def has_bust(self):\n",
        "        return self.score > 21\n",
        "\n",
        "def play_again():\n",
        "    while True:\n",
        "        answer = input(\"Do you want to play again? (Y/N) \")\n",
        "        if answer.upper() == \"Y\":\n",
        "            return True\n",
        "        elif answer.upper() == \"N\":\n",
        "            return False\n",
        "        else:\n",
        "            print(\"Please enter Y or N.\")\n",
        "\n",
        "def start_game():\n",
        "    deck = Deck()\n",
        "    deck.shuffle()\n",
        "\n",
        "    player = Player(\"Player\")\n",
        "    dealer = Dealer()\n",
        "\n",
        "    for _ in range(2):\n",
        "        player.add_card(deck.deal())\n",
        "        dealer.add_card(deck.deal())\n",
        "\n",
        "    print(\"Your cards:\")\n",
        "    player.show_cards()\n",
        "\n",
        "    while True:\n",
        "        print(\"Your score:\", player.get_score())\n",
        "        if player.has_blackjack():\n",
        "            print(\"Blackjack! You win!\")\n",
        "            break\n",
        "        elif player.has_bust():\n",
        "            print(\"Bust! You lose.\")\n",
        "            break\n",
        "\n",
        "        choice = input(\"Hit or stand? (h/s) \")\n",
        "        if choice.upper() == \"H\":\n",
        "            player.add_card(deck.deal())\n",
        "        elif choice.upper() == \"S\":\n",
        "            break\n",
        "        else:\n",
        "            print(\"Please enter h or s.\")\n",
        "\n",
        "    print(\"Dealer's cards:\")\n",
        "    dealer.show_cards()\n",
        "\n",
        "    while True:\n",
        "        if dealer.has_bust():\n",
        "            print(\"Dealer bust! You win!\")\n",
        "            break\n",
        "        elif dealer.get_score() >= 17:\n",
        "            break\n",
        "        else:\n",
        "            dealer.add_card(deck.deal())\n",
        "\n",
        "    dealer_score = dealer.get_score()\n",
        "    player_score = player.get_score()\n",
        "\n",
        "    if dealer_score > player_score and not dealer.has_bust():\n",
        "        print(\"Dealer wins!\")\n",
        "    elif dealer_score"
      ],
      "outputs": [
        {
          "output_type": "error",
          "ename": "SyntaxError",
          "evalue": "ignored",
          "traceback": [
            "\u001b[0;36m  File \u001b[0;32m\"<ipython-input-2-2c345890941d>\"\u001b[0;36m, line \u001b[0;32m136\u001b[0m\n\u001b[0;31m    elif dealer_score:\u001b[0m\n\u001b[0m                      ^\u001b[0m\n\u001b[0;31mSyntaxError\u001b[0m\u001b[0;31m:\u001b[0m incomplete input\n"
          ]
        }
      ],
      "execution_count": 2,
      "metadata": {
        "colab": {
          "base_uri": "https://localhost:8080/",
          "height": 142
        },
        "id": "ZW4xBfv8CGEt",
        "outputId": "c1b96d1e-94ce-4553-b87b-990881be9cd9"
      }
    },
    {
      "cell_type": "markdown",
      "source": [],
      "metadata": {
        "id": "aiGBK9NBCeGU"
      }
    },
    {
      "cell_type": "code",
      "source": [],
      "metadata": {
        "id": "tBdjcURwCfG2"
      },
      "execution_count": null,
      "outputs": []
    },
    {
      "cell_type": "markdown",
      "source": [
        "<div class=\"md-recitation\">\n",
        "  Sources\n",
        "  <ol>\n",
        "  <li><a href=\"https://github.com/leomaurodesenv/udemy-complete-python-bootcamp\">https://github.com/leomaurodesenv/udemy-complete-python-bootcamp</a></li>\n",
        "  <li><a href=\"https://github.com/Brian1nONLY/War-Game\">https://github.com/Brian1nONLY/War-Game</a></li>\n",
        "  <li><a href=\"https://github.com/gistable/gistable\">https://github.com/gistable/gistable</a></li>\n",
        "  <li><a href=\"https://github.com/gogadrz/my_project\">https://github.com/gogadrz/my_project</a></li>\n",
        "  </ol>\n",
        "</div>"
      ],
      "metadata": {
        "id": "4jbjm2AuCGEv"
      }
    }
  ],
  "metadata": {
    "colab": {
      "provenance": [],
      "include_colab_link": true
    },
    "kernelspec": {
      "display_name": "Python 3",
      "name": "python3"
    }
  },
  "nbformat": 4,
  "nbformat_minor": 0
}