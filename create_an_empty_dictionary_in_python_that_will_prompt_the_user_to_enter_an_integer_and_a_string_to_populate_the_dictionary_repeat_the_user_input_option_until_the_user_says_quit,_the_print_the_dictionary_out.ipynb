{
  "cells": [
    {
      "cell_type": "markdown",
      "metadata": {
        "id": "view-in-github",
        "colab_type": "text"
      },
      "source": [
        "<a href=\"https://colab.research.google.com/github/ronh591/CAMV/blob/master/create_an_empty_dictionary_in_python_that_will_prompt_the_user_to_enter_an_integer_and_a_string_to_populate_the_dictionary_repeat_the_user_input_option_until_the_user_says_quit%2C_the_print_the_dictionary_out.ipynb\" target=\"_parent\"><img src=\"https://colab.research.google.com/assets/colab-badge.svg\" alt=\"Open In Colab\"/></a>"
      ]
    },
    {
      "cell_type": "markdown",
      "source": [
        "Here is the Python code that creates an empty dictionary, prompts for user input, repeats until the user says \"quit\", and then prints the final dictionary:"
      ],
      "metadata": {
        "id": "smpiRfMpnd6K"
      }
    },
    {
      "cell_type": "code",
      "source": [
        "# Initialize an empty dictionary\n",
        "user_data = {}\n",
        "\n",
        "# Loop until the user enters \"quit\"\n",
        "while True:\n",
        "  # Prompt for integer and string\n",
        "  try:\n",
        "    integer = int(input(\"Enter an integer: \"))\n",
        "    string = input(\"Enter a string: \")\n",
        "  except ValueError:\n",
        "    print(\"Invalid input. Please enter an integer and a string.\")\n",
        "    continue\n",
        "\n",
        "  # Check if user wants to quit\n",
        "  if string.lower() == \"quit\":\n",
        "    break\n",
        "\n",
        "  # Add key-value pair to dictionary\n",
        "  user_data[integer] = string\n",
        "\n",
        "# Print the dictionary\n",
        "print(\"Dictionary:\", user_data)"
      ],
      "outputs": [
        {
          "output_type": "stream",
          "name": "stdout",
          "text": [
            "Enter an integer: 3\n",
            "Enter a string: justin\n",
            "Enter an integer: 4\n",
            "Enter a string: elvis\n",
            "Enter an integer: 5\n",
            "Enter a string: joe\n",
            "Enter an integer: quit\n",
            "Invalid input. Please enter an integer and a string.\n",
            "Enter an integer: q\n",
            "Invalid input. Please enter an integer and a string.\n",
            "Enter an integer: 3\n",
            "Enter a string: dt\n",
            "Enter an integer: 6\n",
            "Enter a string: quit\n",
            "Dictionary: {3: 'dt', 4: 'elvis', 5: 'joe'}\n"
          ]
        }
      ],
      "execution_count": 1,
      "metadata": {
        "colab": {
          "base_uri": "https://localhost:8080/"
        },
        "id": "3kCxLKWOnd6O",
        "outputId": "d58d79d2-411e-41c5-a58f-c49bb0fef10a"
      }
    },
    {
      "cell_type": "markdown",
      "source": [
        "This code first defines an empty dictionary named `user_data`. Then, it enters a loop that continues until the user enters \"quit\". Inside the loop, the code prompts the user for an integer and a string. The `try` block attempts to convert the user input to the appropriate data type. If the input is invalid, it will print an error message and continue the loop.\n",
        "\n",
        "After the user successfully enters the data, the code checks if the string is \"quit\". If so, it exits the loop. Otherwise, it adds the integer as the key and the string as the value to the dictionary.\n",
        "\n",
        "Finally, the code prints the entire dictionary."
      ],
      "metadata": {
        "id": "lJlm5WgRnd6P"
      }
    }
  ],
  "metadata": {
    "colab": {
      "provenance": [],
      "include_colab_link": true
    },
    "kernelspec": {
      "display_name": "Python 3",
      "name": "python3"
    }
  },
  "nbformat": 4,
  "nbformat_minor": 0
}