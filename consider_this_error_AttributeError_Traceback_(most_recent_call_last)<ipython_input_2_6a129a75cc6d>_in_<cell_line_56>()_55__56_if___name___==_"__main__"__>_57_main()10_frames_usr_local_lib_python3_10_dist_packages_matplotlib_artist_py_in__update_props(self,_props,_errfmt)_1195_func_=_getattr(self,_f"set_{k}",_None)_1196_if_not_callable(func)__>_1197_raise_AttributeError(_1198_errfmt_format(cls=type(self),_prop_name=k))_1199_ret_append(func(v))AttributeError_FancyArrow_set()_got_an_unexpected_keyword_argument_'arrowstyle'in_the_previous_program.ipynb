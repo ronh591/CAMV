{
  "cells": [
    {
      "cell_type": "markdown",
      "metadata": {
        "id": "view-in-github",
        "colab_type": "text"
      },
      "source": [
        "<a href=\"https://colab.research.google.com/github/ronh591/CAMV/blob/master/consider_this_error_AttributeError_Traceback_(most_recent_call_last)%3Cipython_input_2_6a129a75cc6d%3E_in_%3Ccell_line_56%3E()_55__56_if___name___%3D%3D_%22__main__%22__%3E_57_main()10_frames_usr_local_lib_python3_10_dist_packages_matplotlib_artist_py_in__update_props(self%2C_props%2C_errfmt)_1195_func_%3D_getattr(self%2C_f%22set_%7Bk%7D%22%2C_None)_1196_if_not_callable(func)__%3E_1197_raise_AttributeError(_1198_errfmt_format(cls%3Dtype(self)%2C_prop_name%3Dk))_1199_ret_append(func(v))AttributeError_FancyArrow_set()_got_an_unexpected_keyword_argument_'arrowstyle'in_the_previous_program.ipynb\" target=\"_parent\"><img src=\"https://colab.research.google.com/assets/colab-badge.svg\" alt=\"Open In Colab\"/></a>"
      ]
    },
    {
      "cell_type": "markdown",
      "source": [
        "The error message \"AttributeError: FancyArrow.set() got an unexpected keyword argument 'arrowstyle'\" indicates that the `arrowstyle` keyword argument is not supported by the `FancyArrow` class. The `FancyArrow` class provides a higher-level interface for creating arrows, but it does not have all of the same properties as the lower-level `Arrow` class.\n",
        "\n",
        "To fix this error, you can use the `Arrow` class instead of the `FancyArrow` class. The `Arrow` class does support the `arrowstyle` keyword argument. Here is the updated code:"
      ],
      "metadata": {
        "id": "8UJFc-Ut8Bc6"
      }
    },
    {
      "cell_type": "code",
      "source": [
        "import matplotlib.pyplot as plt\n",
        "import numpy as np\n",
        "\n",
        "def construct_velocity_vector():\n",
        "    # Get user input for speed and direction\n",
        "    speed = float(input(\"Enter the speed: \"))\n",
        "    direction = float(input(\"Enter the direction (in degrees): \"))\n",
        "\n",
        "    # Convert direction to radians\n",
        "    direction_radians = np.radians(direction)\n",
        "\n",
        "    # Calculate velocity vector components\n",
        "    vx = speed * np.cos(direction_radians)\n",
        "    vy = speed * np.sin(direction_radians)\n",
        "\n",
        "    # Return velocity vector\n",
        "    return np.array([vx, vy])\n",
        "\n",
        "def plot_velocity_vector(velocity_vector):\n",
        "    # Create figure and axes\n",
        "    fig, ax = plt.subplots()\n",
        "\n",
        "    # Set arrow properties\n",
        "    arrow_properties = {'facecolor': 'red'}\n",
        "\n",
        "    # Plot velocity vector\n",
        "    ax.arrow(0, 0, velocity_vector[0], velocity_vector[1], **arrow_properties)\n",
        "\n",
        "    # Set labels and limits\n",
        "    ax.set_xlabel('X')\n",
        "    ax.set_ylabel('Y')\n",
        "    ax.set_xlim(-speed, speed)\n",
        "    ax.set_ylim(-speed, speed)\n",
        "\n",
        "    # Set title\n",
        "    ax.set_title('Velocity Vector')\n",
        "\n",
        "    # Show plot\n",
        "    plt.show()\n",
        "\n",
        "def main():\n",
        "    while True:\n",
        "        # Construct velocity vector\n",
        "        velocity_vector = construct_velocity_vector()\n",
        "\n",
        "        # Plot velocity vector\n",
        "        plot_velocity_vector(velocity_vector)\n",
        "\n",
        "        # Ask user if they want to construct another vector\n",
        "        choice = input(\"Construct another velocity vector? (Y/N): \")\n",
        "\n",
        "        if choice.lower() != 'y':\n",
        "            print(\"Goodbye!\")\n",
        "            break\n",
        "\n",
        "if __name__ == \"__main__\":\n",
        "    main()"
      ],
      "outputs": [
        {
          "name": "stdout",
          "output_type": "stream",
          "text": [
            "Enter the speed: 60\n",
            "Enter the direction (in degrees): 45\n"
          ]
        },
        {
          "output_type": "error",
          "ename": "NameError",
          "evalue": "ignored",
          "traceback": [
            "\u001b[0;31m---------------------------------------------------------------------------\u001b[0m",
            "\u001b[0;31mNameError\u001b[0m                                 Traceback (most recent call last)",
            "\u001b[0;32m<ipython-input-1-8470bcee38b9>\u001b[0m in \u001b[0;36m<cell line: 56>\u001b[0;34m()\u001b[0m\n\u001b[1;32m     55\u001b[0m \u001b[0;34m\u001b[0m\u001b[0m\n\u001b[1;32m     56\u001b[0m \u001b[0;32mif\u001b[0m \u001b[0m__name__\u001b[0m \u001b[0;34m==\u001b[0m \u001b[0;34m\"__main__\"\u001b[0m\u001b[0;34m:\u001b[0m\u001b[0;34m\u001b[0m\u001b[0;34m\u001b[0m\u001b[0m\n\u001b[0;32m---> 57\u001b[0;31m     \u001b[0mmain\u001b[0m\u001b[0;34m(\u001b[0m\u001b[0;34m)\u001b[0m\u001b[0;34m\u001b[0m\u001b[0;34m\u001b[0m\u001b[0m\n\u001b[0m",
            "\u001b[0;32m<ipython-input-1-8470bcee38b9>\u001b[0m in \u001b[0;36mmain\u001b[0;34m()\u001b[0m\n\u001b[1;32m     45\u001b[0m \u001b[0;34m\u001b[0m\u001b[0m\n\u001b[1;32m     46\u001b[0m         \u001b[0;31m# Plot velocity vector\u001b[0m\u001b[0;34m\u001b[0m\u001b[0;34m\u001b[0m\u001b[0m\n\u001b[0;32m---> 47\u001b[0;31m         \u001b[0mplot_velocity_vector\u001b[0m\u001b[0;34m(\u001b[0m\u001b[0mvelocity_vector\u001b[0m\u001b[0;34m)\u001b[0m\u001b[0;34m\u001b[0m\u001b[0;34m\u001b[0m\u001b[0m\n\u001b[0m\u001b[1;32m     48\u001b[0m \u001b[0;34m\u001b[0m\u001b[0m\n\u001b[1;32m     49\u001b[0m         \u001b[0;31m# Ask user if they want to construct another vector\u001b[0m\u001b[0;34m\u001b[0m\u001b[0;34m\u001b[0m\u001b[0m\n",
            "\u001b[0;32m<ipython-input-1-8470bcee38b9>\u001b[0m in \u001b[0;36mplot_velocity_vector\u001b[0;34m(velocity_vector)\u001b[0m\n\u001b[1;32m     30\u001b[0m     \u001b[0max\u001b[0m\u001b[0;34m.\u001b[0m\u001b[0mset_xlabel\u001b[0m\u001b[0;34m(\u001b[0m\u001b[0;34m'X'\u001b[0m\u001b[0;34m)\u001b[0m\u001b[0;34m\u001b[0m\u001b[0;34m\u001b[0m\u001b[0m\n\u001b[1;32m     31\u001b[0m     \u001b[0max\u001b[0m\u001b[0;34m.\u001b[0m\u001b[0mset_ylabel\u001b[0m\u001b[0;34m(\u001b[0m\u001b[0;34m'Y'\u001b[0m\u001b[0;34m)\u001b[0m\u001b[0;34m\u001b[0m\u001b[0;34m\u001b[0m\u001b[0m\n\u001b[0;32m---> 32\u001b[0;31m     \u001b[0max\u001b[0m\u001b[0;34m.\u001b[0m\u001b[0mset_xlim\u001b[0m\u001b[0;34m(\u001b[0m\u001b[0;34m-\u001b[0m\u001b[0mspeed\u001b[0m\u001b[0;34m,\u001b[0m \u001b[0mspeed\u001b[0m\u001b[0;34m)\u001b[0m\u001b[0;34m\u001b[0m\u001b[0;34m\u001b[0m\u001b[0m\n\u001b[0m\u001b[1;32m     33\u001b[0m     \u001b[0max\u001b[0m\u001b[0;34m.\u001b[0m\u001b[0mset_ylim\u001b[0m\u001b[0;34m(\u001b[0m\u001b[0;34m-\u001b[0m\u001b[0mspeed\u001b[0m\u001b[0;34m,\u001b[0m \u001b[0mspeed\u001b[0m\u001b[0;34m)\u001b[0m\u001b[0;34m\u001b[0m\u001b[0;34m\u001b[0m\u001b[0m\n\u001b[1;32m     34\u001b[0m \u001b[0;34m\u001b[0m\u001b[0m\n",
            "\u001b[0;31mNameError\u001b[0m: name 'speed' is not defined"
          ]
        },
        {
          "output_type": "display_data",
          "data": {
            "text/plain": [
              "<Figure size 640x480 with 1 Axes>"
            ],
            "image/png": "[encoded data removed]"
          },
          "metadata": {}
        }
      ],
      "execution_count": 1,
      "metadata": {
        "colab": {
          "base_uri": "https://localhost:8080/",
          "height": 823
        },
        "id": "vRHunP248Bc9",
        "outputId": "edb85538-77fe-484a-f43d-d5ea514c5f92"
      }
    },
    {
      "cell_type": "markdown",
      "source": [
        "This code will plot the velocity vector using the `Arrow` class instead of the `FancyArrow` class. The `arrowstyle` keyword argument is not used, so the error message will no longer appear."
      ],
      "metadata": {
        "id": "brY4LR9U8Bc-"
      }
    }
  ],
  "metadata": {
    "colab": {
      "provenance": [],
      "include_colab_link": true
    },
    "kernelspec": {
      "display_name": "Python 3",
      "name": "python3"
    }
  },
  "nbformat": 4,
  "nbformat_minor": 0
}