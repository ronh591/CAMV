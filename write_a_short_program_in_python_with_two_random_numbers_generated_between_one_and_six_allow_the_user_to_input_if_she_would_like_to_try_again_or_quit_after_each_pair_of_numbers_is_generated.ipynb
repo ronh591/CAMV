{
  "cells": [
    {
      "cell_type": "markdown",
      "metadata": {
        "id": "view-in-github",
        "colab_type": "text"
      },
      "source": [
        "<a href=\"https://colab.research.google.com/github/ronh591/CAMV/blob/master/write_a_short_program_in_python_with_two_random_numbers_generated_between_one_and_six_allow_the_user_to_input_if_she_would_like_to_try_again_or_quit_after_each_pair_of_numbers_is_generated.ipynb\" target=\"_parent\"><img src=\"https://colab.research.google.com/assets/colab-badge.svg\" alt=\"Open In Colab\"/></a>"
      ]
    },
    {
      "cell_type": "markdown",
      "source": [
        "Sure, here's the Python code that generates two random numbers between one and six and allows the user to input if she would like to try again or quit after each pair of numbers is generated:"
      ],
      "metadata": {
        "id": "jOPTTXTMM-GA"
      }
    },
    {
      "cell_type": "code",
      "source": [
        "import random\n",
        "\n",
        "while True:\n",
        "    # Generate two random numbers between 1 and 6\n",
        "    random_number1 = random.randint(1, 6)\n",
        "    random_number2 = random.randint(1, 6)\n",
        "\n",
        "    # Print the two random numbers\n",
        "    print(\"First random number:\", random_number1)\n",
        "    print(\"Second random number:\", random_number2)\n",
        "\n",
        "    # Ask the user if they want to try again or quit\n",
        "    user_input = input(\"Generate another pair of random numbers (y/n)? \")\n",
        "\n",
        "    # Check the user's input\n",
        "    if user_input.lower() == \"y\":\n",
        "        continue\n",
        "    elif user_input.lower() == \"n\":\n",
        "        break\n",
        "    else:\n",
        "        print(\"Invalid input. Please enter 'y' to try again or 'n' to quit.\")\n",
        "\n",
        "print(\"Thank you for using my random number generator!\")"
      ],
      "outputs": [
        {
          "output_type": "stream",
          "name": "stdout",
          "text": [
            "First random number: 6\n",
            "Second random number: 2\n",
            "Generate another pair of random numbers (y/n)? y\n",
            "First random number: 1\n",
            "Second random number: 5\n",
            "Generate another pair of random numbers (y/n)? y\n",
            "First random number: 1\n",
            "Second random number: 2\n",
            "Generate another pair of random numbers (y/n)? y\n",
            "First random number: 2\n",
            "Second random number: 5\n",
            "Generate another pair of random numbers (y/n)? n\n",
            "Thank you for using my random number generator!\n"
          ]
        }
      ],
      "execution_count": 1,
      "metadata": {
        "colab": {
          "base_uri": "https://localhost:8080/"
        },
        "id": "zGme1n4kM-GC",
        "outputId": "b8fa5627-96d3-4af9-c441-6a775fda09d3"
      }
    },
    {
      "cell_type": "markdown",
      "source": [
        "This code first imports the `random` module, which provides functions for generating random numbers. Then, it enters a loop that continues as long as the user wants to generate new pairs of random numbers. Inside the loop, it generates two random numbers between 1 and 6 using the `random.randint()` function and prints each number to the console.\n",
        "\n",
        "After printing the random numbers, it asks the user whether they want to generate another pair of random numbers or quit. If the user enters \"y\", the loop continues. If they enter \"n\", the loop breaks, and the program exits. If the user enters anything else, it displays an error message and asks the user to enter a valid input. Finally, it prints a thank you message when the user quits the program."
      ],
      "metadata": {
        "id": "PzK6RQVhM-GD"
      }
    }
  ],
  "metadata": {
    "colab": {
      "provenance": [],
      "include_colab_link": true
    },
    "kernelspec": {
      "display_name": "Python 3",
      "name": "python3"
    }
  },
  "nbformat": 4,
  "nbformat_minor": 0
}