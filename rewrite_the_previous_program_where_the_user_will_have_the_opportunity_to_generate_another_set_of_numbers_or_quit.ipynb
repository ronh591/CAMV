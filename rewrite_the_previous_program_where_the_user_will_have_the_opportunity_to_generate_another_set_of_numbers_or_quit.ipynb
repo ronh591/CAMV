{
  "cells": [
    {
      "cell_type": "markdown",
      "metadata": {
        "id": "view-in-github",
        "colab_type": "text"
      },
      "source": [
        "<a href=\"https://colab.research.google.com/github/ronh591/CAMV/blob/master/rewrite_the_previous_program_where_the_user_will_have_the_opportunity_to_generate_another_set_of_numbers_or_quit.ipynb\" target=\"_parent\"><img src=\"https://colab.research.google.com/assets/colab-badge.svg\" alt=\"Open In Colab\"/></a>"
      ]
    },
    {
      "cell_type": "markdown",
      "source": [
        "Here's the modified Python code that incorporates a loop to allow the user to generate another set of numbers or quit:"
      ],
      "metadata": {
        "id": "_1gmoHAbfDL1"
      }
    },
    {
      "cell_type": "code",
      "source": [
        "import random\n",
        "\n",
        "while True:\n",
        "    # Generate 10 random numbers between 1 and 99\n",
        "    random_numbers = []\n",
        "    for i in range(10):\n",
        "        random_numbers.append(random.randint(1, 99))\n",
        "\n",
        "    # Find the prime numbers in the list\n",
        "    prime_numbers = []\n",
        "    for number in random_numbers:\n",
        "        if number <= 1:\n",
        "            continue\n",
        "        is_prime = True\n",
        "        for i in range(2, int(number**0.5) + 1):\n",
        "            if number % i == 0:\n",
        "                is_prime = False\n",
        "                break\n",
        "        if is_prime:\n",
        "            prime_numbers.append(number)\n",
        "\n",
        "    # Print the random numbers and prime numbers\n",
        "    print(\"Random numbers:\", random_numbers)\n",
        "    print(\"Prime numbers:\", prime_numbers)\n",
        "\n",
        "    # Ask the user if they want to generate another set of numbers or quit\n",
        "    user_input = input(\"Generate another set of random numbers (y/n)? \")\n",
        "\n",
        "    # Check the user's input\n",
        "    if user_input.lower() == \"y\":\n",
        "        continue\n",
        "    elif user_input.lower() == \"n\":\n",
        "        break\n",
        "    else:\n",
        "        print(\"Invalid input. Please enter 'y' to try again or 'n' to quit.\")\n",
        "\n",
        "print(\"Thank you for using my random number generator!\")"
      ],
      "outputs": [
        {
          "output_type": "stream",
          "name": "stdout",
          "text": [
            "Random numbers: [29, 17, 35, 19, 58, 16, 54, 59, 40, 94]\n",
            "Prime numbers: [29, 17, 19, 59]\n",
            "Generate another set of random numbers (y/n)? y\n",
            "Random numbers: [27, 8, 78, 47, 64, 71, 87, 93, 60, 6]\n",
            "Prime numbers: [47, 71]\n",
            "Generate another set of random numbers (y/n)? y\n",
            "Random numbers: [54, 52, 16, 75, 31, 71, 81, 11, 20, 40]\n",
            "Prime numbers: [31, 71, 11]\n",
            "Generate another set of random numbers (y/n)? y\n",
            "Random numbers: [1, 11, 95, 18, 26, 31, 20, 45, 75, 92]\n",
            "Prime numbers: [11, 31]\n",
            "Generate another set of random numbers (y/n)? y\n",
            "Random numbers: [45, 76, 15, 29, 38, 98, 72, 46, 93, 32]\n",
            "Prime numbers: [29]\n",
            "Generate another set of random numbers (y/n)? y\n",
            "Random numbers: [78, 19, 72, 46, 67, 43, 97, 68, 87, 67]\n",
            "Prime numbers: [19, 67, 43, 97, 67]\n"
          ]
        },
        {
          "output_type": "error",
          "ename": "KeyboardInterrupt",
          "evalue": "ignored",
          "traceback": [
            "\u001b[0;31m---------------------------------------------------------------------------\u001b[0m",
            "\u001b[0;31mKeyboardInterrupt\u001b[0m                         Traceback (most recent call last)",
            "\u001b[0;32m<ipython-input-1-1d1c67ed7cbd>\u001b[0m in \u001b[0;36m<cell line: 3>\u001b[0;34m()\u001b[0m\n\u001b[1;32m     25\u001b[0m \u001b[0;34m\u001b[0m\u001b[0m\n\u001b[1;32m     26\u001b[0m     \u001b[0;31m# Ask the user if they want to generate another set of numbers or quit\u001b[0m\u001b[0;34m\u001b[0m\u001b[0;34m\u001b[0m\u001b[0m\n\u001b[0;32m---> 27\u001b[0;31m     \u001b[0muser_input\u001b[0m \u001b[0;34m=\u001b[0m \u001b[0minput\u001b[0m\u001b[0;34m(\u001b[0m\u001b[0;34m\"Generate another set of random numbers (y/n)? \"\u001b[0m\u001b[0;34m)\u001b[0m\u001b[0;34m\u001b[0m\u001b[0;34m\u001b[0m\u001b[0m\n\u001b[0m\u001b[1;32m     28\u001b[0m \u001b[0;34m\u001b[0m\u001b[0m\n\u001b[1;32m     29\u001b[0m     \u001b[0;31m# Check the user's input\u001b[0m\u001b[0;34m\u001b[0m\u001b[0;34m\u001b[0m\u001b[0m\n",
            "\u001b[0;32m/usr/local/lib/python3.10/dist-packages/ipykernel/kernelbase.py\u001b[0m in \u001b[0;36mraw_input\u001b[0;34m(self, prompt)\u001b[0m\n\u001b[1;32m    849\u001b[0m                 \u001b[0;34m\"raw_input was called, but this frontend does not support input requests.\"\u001b[0m\u001b[0;34m\u001b[0m\u001b[0;34m\u001b[0m\u001b[0m\n\u001b[1;32m    850\u001b[0m             )\n\u001b[0;32m--> 851\u001b[0;31m         return self._input_request(str(prompt),\n\u001b[0m\u001b[1;32m    852\u001b[0m             \u001b[0mself\u001b[0m\u001b[0;34m.\u001b[0m\u001b[0m_parent_ident\u001b[0m\u001b[0;34m,\u001b[0m\u001b[0;34m\u001b[0m\u001b[0;34m\u001b[0m\u001b[0m\n\u001b[1;32m    853\u001b[0m             \u001b[0mself\u001b[0m\u001b[0;34m.\u001b[0m\u001b[0m_parent_header\u001b[0m\u001b[0;34m,\u001b[0m\u001b[0;34m\u001b[0m\u001b[0;34m\u001b[0m\u001b[0m\n",
            "\u001b[0;32m/usr/local/lib/python3.10/dist-packages/ipykernel/kernelbase.py\u001b[0m in \u001b[0;36m_input_request\u001b[0;34m(self, prompt, ident, parent, password)\u001b[0m\n\u001b[1;32m    893\u001b[0m             \u001b[0;32mexcept\u001b[0m \u001b[0mKeyboardInterrupt\u001b[0m\u001b[0;34m:\u001b[0m\u001b[0;34m\u001b[0m\u001b[0;34m\u001b[0m\u001b[0m\n\u001b[1;32m    894\u001b[0m                 \u001b[0;31m# re-raise KeyboardInterrupt, to truncate traceback\u001b[0m\u001b[0;34m\u001b[0m\u001b[0;34m\u001b[0m\u001b[0m\n\u001b[0;32m--> 895\u001b[0;31m                 \u001b[0;32mraise\u001b[0m \u001b[0mKeyboardInterrupt\u001b[0m\u001b[0;34m(\u001b[0m\u001b[0;34m\"Interrupted by user\"\u001b[0m\u001b[0;34m)\u001b[0m \u001b[0;32mfrom\u001b[0m \u001b[0;32mNone\u001b[0m\u001b[0;34m\u001b[0m\u001b[0;34m\u001b[0m\u001b[0m\n\u001b[0m\u001b[1;32m    896\u001b[0m             \u001b[0;32mexcept\u001b[0m \u001b[0mException\u001b[0m \u001b[0;32mas\u001b[0m \u001b[0me\u001b[0m\u001b[0;34m:\u001b[0m\u001b[0;34m\u001b[0m\u001b[0;34m\u001b[0m\u001b[0m\n\u001b[1;32m    897\u001b[0m                 \u001b[0mself\u001b[0m\u001b[0;34m.\u001b[0m\u001b[0mlog\u001b[0m\u001b[0;34m.\u001b[0m\u001b[0mwarning\u001b[0m\u001b[0;34m(\u001b[0m\u001b[0;34m\"Invalid Message:\"\u001b[0m\u001b[0;34m,\u001b[0m \u001b[0mexc_info\u001b[0m\u001b[0;34m=\u001b[0m\u001b[0;32mTrue\u001b[0m\u001b[0;34m)\u001b[0m\u001b[0;34m\u001b[0m\u001b[0;34m\u001b[0m\u001b[0m\n",
            "\u001b[0;31mKeyboardInterrupt\u001b[0m: Interrupted by user"
          ]
        }
      ],
      "execution_count": 1,
      "metadata": {
        "colab": {
          "base_uri": "https://localhost:8080/",
          "height": 686
        },
        "id": "gQNPsX9QfDL7",
        "outputId": "a51c87a5-f0d0-4cbd-99df-2ea24263e569"
      }
    },
    {
      "cell_type": "markdown",
      "source": [
        "This code continuously generates sets of 10 random numbers and identifies the prime numbers within each set. After displaying the random numbers and prime numbers, it prompts the user to decide whether to generate another set or quit. If the user chooses to continue, the loop repeats, generating another set of random numbers and identifying the prime numbers. If the user chooses to quit, the loop breaks, and the program exits with a thank-you message."
      ],
      "metadata": {
        "id": "1QBzqOlMfDL-"
      }
    }
  ],
  "metadata": {
    "colab": {
      "provenance": [],
      "include_colab_link": true
    },
    "kernelspec": {
      "display_name": "Python 3",
      "name": "python3"
    }
  },
  "nbformat": 4,
  "nbformat_minor": 0
}