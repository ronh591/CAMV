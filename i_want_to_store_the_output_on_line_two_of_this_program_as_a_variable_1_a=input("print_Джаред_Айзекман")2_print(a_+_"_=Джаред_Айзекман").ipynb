{
  "cells": [
    {
      "cell_type": "markdown",
      "metadata": {
        "id": "view-in-github",
        "colab_type": "text"
      },
      "source": [
        "<a href=\"https://colab.research.google.com/github/ronh591/CAMV/blob/master/i_want_to_store_the_output_on_line_two_of_this_program_as_a_variable_1_a%3Dinput(%22print_%D0%94%D0%B6%D0%B0%D1%80%D0%B5%D0%B4_%D0%90%D0%B9%D0%B7%D0%B5%D0%BA%D0%BC%D0%B0%D0%BD%22)2_print(a_%2B_%22_%3D%D0%94%D0%B6%D0%B0%D1%80%D0%B5%D0%B4_%D0%90%D0%B9%D0%B7%D0%B5%D0%BA%D0%BC%D0%B0%D0%BD%22).ipynb\" target=\"_parent\"><img src=\"https://colab.research.google.com/assets/colab-badge.svg\" alt=\"Open In Colab\"/></a>"
      ]
    },
    {
      "cell_type": "markdown",
      "source": [
        "Here is the code with the output of line two stored in a variable:"
      ],
      "metadata": {
        "id": "QrwkxEaZLkU8"
      }
    },
    {
      "cell_type": "code",
      "source": [
        "a = input(\"print Джаред Айзекман\")\n",
        "output_line_two = a + \" = Джаред Айзекман\"\n",
        "print(output_line_two)"
      ],
      "outputs": [
        {
          "output_type": "stream",
          "name": "stdout",
          "text": [
            "print Джаред Айзекманjared issacman\n",
            "jared issacman = Джаред Айзекман\n"
          ]
        }
      ],
      "execution_count": 1,
      "metadata": {
        "colab": {
          "base_uri": "https://localhost:8080/"
        },
        "id": "V6mwzcgrLkVB",
        "outputId": "7c0758c2-4397-4209-9069-8d4bbbeba105"
      }
    },
    {
      "cell_type": "markdown",
      "source": [
        "This code first takes input from the user and stores it in the variable `a`. Then, it concatenates the string `\" = Джаред Айзекман\"` to the value of `a` and stores the result in the variable `output_line_two`. Finally, it prints the value of `output_line_two`.\n",
        "\n",
        "Here is an example of how the code would run:\n",
        "\n",
        "```\n",
        "print Джаред Айзекман\n",
        "Джаред Айзекман = Джаред Айзекман\n",
        "```"
      ],
      "metadata": {
        "id": "e-Er4l4gLkVD"
      }
    }
  ],
  "metadata": {
    "colab": {
      "provenance": [],
      "include_colab_link": true
    },
    "kernelspec": {
      "display_name": "Python 3",
      "name": "python3"
    }
  },
  "nbformat": 4,
  "nbformat_minor": 0
}