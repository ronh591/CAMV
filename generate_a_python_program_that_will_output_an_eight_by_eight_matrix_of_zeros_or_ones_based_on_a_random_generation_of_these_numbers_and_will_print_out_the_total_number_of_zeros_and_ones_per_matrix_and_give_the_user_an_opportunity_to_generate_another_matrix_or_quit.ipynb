{
  "cells": [
    {
      "cell_type": "markdown",
      "metadata": {
        "id": "view-in-github",
        "colab_type": "text"
      },
      "source": [
        "<a href=\"https://colab.research.google.com/github/ronh591/CAMV/blob/master/generate_a_python_program_that_will_output_an_eight_by_eight_matrix_of_zeros_or_ones_based_on_a_random_generation_of_these_numbers_and_will_print_out_the_total_number_of_zeros_and_ones_per_matrix_and_give_the_user_an_opportunity_to_generate_another_matrix_or_quit.ipynb\" target=\"_parent\"><img src=\"https://colab.research.google.com/assets/colab-badge.svg\" alt=\"Open In Colab\"/></a>"
      ]
    },
    {
      "cell_type": "markdown",
      "source": [
        "Here's the Python program that will generate an 8x8 matrix of zeros or ones based on a random generation of these numbers and will print out the total number of zeros and ones per matrix and give the user an opportunity to generate another matrix or quit:"
      ],
      "metadata": {
        "id": "fVe7OkW2CfEz"
      }
    },
    {
      "cell_type": "code",
      "source": [
        "import random\n",
        "\n",
        "def generate_matrix():\n",
        "    matrix = []\n",
        "    for _ in range(8):\n",
        "        row = []\n",
        "        for _ in range(8):\n",
        "            row.append(random.randint(0, 1))\n",
        "        matrix.append(row)\n",
        "    return matrix\n",
        "\n",
        "def print_matrix(matrix):\n",
        "    for row in matrix:\n",
        "        for element in row:\n",
        "            print(element, end=\" \")\n",
        "        print()\n",
        "\n",
        "def count_zeros_and_ones(matrix):\n",
        "    zeros = 0\n",
        "    ones = 0\n",
        "    for row in matrix:\n",
        "        for element in row:\n",
        "            if element == 0:\n",
        "                zeros += 1\n",
        "            else:\n",
        "                ones += 1\n",
        "    return zeros, ones\n",
        "\n",
        "def main():\n",
        "    while True:\n",
        "        matrix = generate_matrix()\n",
        "        print_matrix(matrix)\n",
        "        zeros, ones = count_zeros_and_ones(matrix)\n",
        "        print(\"Total zeros:\", zeros)\n",
        "        print(\"Total ones:\", ones)\n",
        "\n",
        "        choice = input(\"Generate another matrix (y/n)? \")\n",
        "        if choice.lower() != \"y\":\n",
        "            break\n",
        "\n",
        "if __name__ == \"__main__\":\n",
        "    main()"
      ],
      "outputs": [
        {
          "name": "stdout",
          "output_type": "stream",
          "text": [
            "0 1 0 1 1 1 1 0 \n",
            "1 0 1 1 1 0 0 0 \n",
            "1 0 1 0 1 1 1 0 \n",
            "0 1 1 1 0 1 0 0 \n",
            "1 0 0 1 0 1 0 0 \n",
            "0 1 1 1 1 1 1 1 \n",
            "1 0 1 0 0 0 1 1 \n",
            "0 1 0 1 0 1 1 1 \n",
            "Total zeros: 27\n",
            "Total ones: 37\n",
            "Generate another matrix (y/n)? y\n",
            "0 1 0 0 1 1 1 0 \n",
            "1 1 0 1 0 0 0 1 \n",
            "1 1 1 1 0 1 0 0 \n",
            "0 0 0 1 1 0 1 0 \n",
            "0 1 1 1 1 1 0 0 \n",
            "0 1 0 1 1 0 0 0 \n",
            "0 0 1 1 1 1 0 1 \n",
            "1 1 0 1 1 1 1 0 \n",
            "Total zeros: 29\n",
            "Total ones: 35\n",
            "Generate another matrix (y/n)? y\n",
            "0 1 0 1 0 0 1 1 \n",
            "1 0 0 0 1 1 1 1 \n",
            "1 1 1 0 0 0 0 0 \n",
            "1 1 0 0 1 0 1 1 \n",
            "1 1 0 1 1 1 0 1 \n",
            "0 1 1 0 1 0 0 1 \n",
            "1 1 1 0 1 0 1 0 \n",
            "0 1 0 0 1 0 1 1 \n",
            "Total zeros: 28\n",
            "Total ones: 36\n",
            "Generate another matrix (y/n)? y\n",
            "1 0 1 1 1 1 0 0 \n",
            "1 0 1 1 1 1 1 1 \n",
            "1 1 1 1 1 1 0 0 \n",
            "1 1 0 0 0 0 0 0 \n",
            "0 1 1 1 1 1 0 0 \n",
            "1 0 0 0 1 1 0 1 \n",
            "1 0 0 0 0 1 0 0 \n",
            "0 1 0 1 1 0 0 1 \n",
            "Total zeros: 29\n",
            "Total ones: 35\n",
            "Generate another matrix (y/n)? y\n",
            "1 0 1 0 1 0 1 1 \n",
            "1 1 0 1 0 0 0 1 \n",
            "1 0 0 1 0 1 0 0 \n",
            "0 1 0 1 1 0 0 1 \n",
            "0 0 0 0 0 0 0 1 \n",
            "0 0 1 1 0 0 0 0 \n",
            "1 1 0 0 1 1 1 0 \n",
            "0 0 1 1 1 0 0 0 \n",
            "Total zeros: 37\n",
            "Total ones: 27\n",
            "Generate another matrix (y/n)? n\n"
          ]
        }
      ],
      "execution_count": 1,
      "metadata": {
        "colab": {
          "base_uri": "https://localhost:8080/"
        },
        "id": "fsXJXo45CfE7",
        "outputId": "c4f09eca-ddd1-43f3-ae01-4508600556cb"
      }
    },
    {
      "cell_type": "markdown",
      "source": [
        "This program first imports the `random` module to generate random numbers. Then, it defines a function `generate_matrix()` that creates an 8x8 matrix of zeros or ones. The `print_matrix()` function prints the matrix to the console. The `count_zeros_and_ones()` function counts the number of zeros and ones in the matrix. Finally, the `main()` function repeatedly generates matrices, prints them, and counts the zeros and ones until the user chooses to quit."
      ],
      "metadata": {
        "id": "Iz8AyigICfE-"
      }
    }
  ],
  "metadata": {
    "colab": {
      "provenance": [],
      "include_colab_link": true
    },
    "kernelspec": {
      "display_name": "Python 3",
      "name": "python3"
    }
  },
  "nbformat": 4,
  "nbformat_minor": 0
}