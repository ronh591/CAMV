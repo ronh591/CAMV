{
  "cells": [
    {
      "cell_type": "markdown",
      "metadata": {
        "id": "view-in-github",
        "colab_type": "text"
      },
      "source": [
        "<a href=\"https://colab.research.google.com/github/ronh591/CAMV/blob/master/rewrite_the_previous_code_with_ten_questions_where_the_answers_will_be_the_number_before_the_russian_word_for_book_in_this_example.ipynb\" target=\"_parent\"><img src=\"https://colab.research.google.com/assets/colab-badge.svg\" alt=\"Open In Colab\"/></a>"
      ]
    },
    {
      "cell_type": "markdown",
      "source": [
        "## Russian Grammar Quiz in Python (10 questions)"
      ],
      "metadata": {
        "id": "BfUrk_xKFqs5"
      }
    },
    {
      "cell_type": "code",
      "source": [
        "from random import shuffle\n",
        "\n",
        "class Question:\n",
        "    def __init__(self, prompt, answers, correct_answer):\n",
        "        self.prompt = prompt\n",
        "        self.answers = answers\n",
        "        self.correct_answer = correct_answer\n",
        "\n",
        "# Define your questions and answers here\n",
        "questions = [\n",
        "    # Example question\n",
        "    Question(\"What is the nominative singular of the word 'книга' (book)?\", [\"книга\", \"книги\", \"книгу\", \"книге\"], \"книга\"),\n",
        "    Question(\"What is the genitive singular of the word 'стол' (table)?\", [\"стол\", \"стола\", \"столу\", \"столы\"], \"стола\"),\n",
        "    Question(\"What is the dative singular of the word 'дом' (house)?\", [\"дом\", \"дома\", \"дому\", \"доме\"], \"дому\"),\n",
        "    Question(\"What is the accusative singular of the word 'ручка' (pen)?\", [\"ручка\", \"ручки\", \"ручку\", \"ручков\"], \"ручку\"),\n",
        "    Question(\"What is the instrumental singular of the word 'яблоко' (apple)?\", [\"яблоко\", \"яблока\", \"яблоку\", \"яблоком\"], \"яблоком\"),\n",
        "    Question(\"What is the prepositional singular of the word 'окно' (window)?\", [\"окно\", \"окна\", \"окну\", \"окне\"], \"окне\"),\n",
        "    Question(\"What is the nominative plural of the word 'студент' (student)?\", [\"студент\", \"студенты\", \"студенту\", \"студенты\"], \"студенты\"),\n",
        "    Question(\"What is the genitive plural of the word 'учитель' (teacher)?\", [\"учитель\", \"учителя\", \"учителю\", \"учителей\"], \"учителей\"),\n",
        "    Question(\"What is the dative plural of the word 'книга' (book)?\", [\"книга\", \"книги\", \"книгу\", \"книгам\"], \"книгам\"),\n",
        "    Question(\"What is the accusative plural of the word 'дерево' (tree)?\", [\"дерево\", \"деревья\", \"дереву\", \"деревья\"], \"деревья\"),\n",
        "]\n",
        "\n",
        "# Shuffle the questions\n",
        "shuffle(questions)\n",
        "\n",
        "# Initialize score counters\n",
        "correct_answers = 0\n",
        "incorrect_answers = 0\n",
        "\n",
        "# Loop through each question and ask the user\n",
        "for question in questions:\n",
        "    print(f\"\\nQuestion {questions.index(question) + 1}: {question.prompt}\")\n",
        "    for i, answer in enumerate(question.answers, 1):\n",
        "        print(f\"{i}) {answer}\")\n",
        "\n",
        "    user_answer = input(\"\\nYour answer: \")\n",
        "\n",
        "    if user_answer.lower() == question.correct_answer.lower():\n",
        "        correct_answers += 1\n",
        "        print(\"Correct!\")\n",
        "    else:\n",
        "        incorrect_answers += 1\n",
        "        print(\"Incorrect. The correct answer is\", question.correct_answer)\n",
        "\n",
        "# Print final results\n",
        "print(f\"\\nTotal correct answers: {correct_answers}\")\n",
        "print(f\"Total incorrect answers: {incorrect_answers}\")"
      ],
      "outputs": [],
      "execution_count": null,
      "metadata": {
        "id": "un1m_WGAFqs8"
      }
    },
    {
      "cell_type": "markdown",
      "source": [
        "This code defines a `Question` class with attributes for the question prompt, answer choices, and the correct answer.\n",
        "\n",
        "It then defines a list of questions and shuffles them. The code loops through each question, prints it to the console, and prompts the user for their answer.\n",
        "\n",
        "Finally, it checks the user's answer and updates the score counters accordingly. After all questions are answered, it prints the final results.\n",
        "\n",
        "This is a basic example, and you can customize it further by adding more questions, different question formats, and feedback for the user."
      ],
      "metadata": {
        "id": "SjMIkc_tFqs-"
      }
    }
  ],
  "metadata": {
    "colab": {
      "provenance": [],
      "include_colab_link": true
    },
    "kernelspec": {
      "display_name": "Python 3",
      "name": "python3"
    }
  },
  "nbformat": 4,
  "nbformat_minor": 0
}