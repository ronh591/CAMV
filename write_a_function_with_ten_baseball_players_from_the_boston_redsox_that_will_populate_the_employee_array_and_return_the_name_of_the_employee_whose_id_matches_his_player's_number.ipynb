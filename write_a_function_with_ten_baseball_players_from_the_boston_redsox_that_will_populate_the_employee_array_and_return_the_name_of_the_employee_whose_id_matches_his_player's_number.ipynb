{
  "cells": [
    {
      "cell_type": "markdown",
      "metadata": {
        "id": "view-in-github",
        "colab_type": "text"
      },
      "source": [
        "<a href=\"https://colab.research.google.com/github/ronh591/CAMV/blob/master/write_a_function_with_ten_baseball_players_from_the_boston_redsox_that_will_populate_the_employee_array_and_return_the_name_of_the_employee_whose_id_matches_his_player's_number.ipynb\" target=\"_parent\"><img src=\"https://colab.research.google.com/assets/colab-badge.svg\" alt=\"Open In Colab\"/></a>"
      ]
    },
    {
      "cell_type": "markdown",
      "source": [
        "Here is a Python function that populates an array with information about ten baseball players from the Boston Red Sox and returns the name of the player whose ID matches their player's number:"
      ],
      "metadata": {
        "id": "kFgydc8BIwok"
      }
    },
    {
      "cell_type": "code",
      "source": [
        "def find_player_by_id(players, id):\n",
        "  \"\"\"\n",
        "  This function takes a list of players and an id as input.\n",
        "  It returns the name of the player whose id matches the given id, or None if the player is not found.\n",
        "  \"\"\"\n",
        "  for player in players:\n",
        "    if player[\"id\"] == id:\n",
        "      return player[\"name\"]\n",
        "  return None\n",
        "\n",
        "# Define a list of players\n",
        "players = [\n",
        "  {\"id\": 1, \"name\": \"Mookie Betts\"},\n",
        "  {\"id\": 2, \"name\": \"Rafael Devers\"},\n",
        "  {\"id\": 3, \"name\": \"Xander Bogaerts\"},\n",
        "  {\"id\": 4, \"name\": \"J.D. Martinez\"},\n",
        "  {\"id\": 5, \"name\": \"Trevor Story\"},\n",
        "  {\"id\": 11, \"name\": \"Chris Sale\"},\n",
        "  {\"id\": 17, \"name\": \"Nathan Eovaldi\"},\n",
        "  {\"id\": 27, \"name\": \"Rich Hill\"},\n",
        "  {\"id\": 34, \"name\": \"Nick Pivetta\"},\n",
        "  {\"id\": 46, \"name\": \"Garrett Whitlock\"},\n",
        "]\n",
        "\n",
        "# Get the player ID from the user\n",
        "player_id = int(input(\"Enter the player ID: \"))\n",
        "\n",
        "# Find the player with the given ID\n",
        "player_name = find_player_by_id(players, player_id)\n",
        "\n",
        "if player_name is None:\n",
        "  print(\"Player not found\")\n",
        "else:\n",
        "  print(f\"Player found: {player_name}\")"
      ],
      "outputs": [
        {
          "output_type": "stream",
          "name": "stdout",
          "text": [
            "Enter the player ID: 4\n",
            "Player found: J.D. Martinez\n"
          ]
        }
      ],
      "execution_count": 1,
      "metadata": {
        "colab": {
          "base_uri": "https://localhost:8080/"
        },
        "id": "huHN3IIPIwon",
        "outputId": "e9ae2b69-9055-4789-baf1-494eac701fa5"
      }
    },
    {
      "cell_type": "markdown",
      "source": [
        "This function defines a list of ten players with their IDs and names. It then takes the player ID as input from the user and searches for a player in the list whose ID matches the input. If a match is found, the function returns the player's name. Otherwise, it prints a message indicating that the player was not found.\n",
        "\n",
        "This code uses a dictionary to store information about each player, which makes it easy to access the player's name and ID. You can easily modify this code to add more players or change the information stored for each player."
      ],
      "metadata": {
        "id": "5KPgRy5hIwop"
      }
    }
  ],
  "metadata": {
    "colab": {
      "provenance": [],
      "include_colab_link": true
    },
    "kernelspec": {
      "display_name": "Python 3",
      "name": "python3"
    }
  },
  "nbformat": 4,
  "nbformat_minor": 0
}